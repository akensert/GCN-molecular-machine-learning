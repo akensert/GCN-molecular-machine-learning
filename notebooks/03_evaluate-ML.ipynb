{
 "cells": [
  {
   "cell_type": "code",
   "execution_count": 2,
   "metadata": {},
   "outputs": [],
   "source": [
    "import numpy as np\n",
    "import pandas as pd\n",
    "from tqdm import tqdm\n",
    "import os\n",
    "\n",
    "import sys\n",
    "sys.path.append('../src/')\n",
    "\n",
    "from ml import datasets\n",
    "from ml import models\n",
    "\n",
    "import configuration\n",
    "\n",
    "from utils import metrics\n",
    "\n",
    "from notebook_utils import fit_and_predict_ml as fit_and_predict"
   ]
  },
  {
   "cell_type": "code",
   "execution_count": 3,
   "metadata": {},
   "outputs": [],
   "source": [
    "model_names = [\n",
    "    'rf', \n",
    "    'gb',\n",
    "    'ab',\n",
    "    'svm',\n",
    "]\n",
    "\n",
    "dataset_names = list(configuration.datasets.keys())\n",
    "\n",
    "NUM_REPL = configuration.NUM_REPLICATES\n",
    "NUM_SEARCHES = configuration.NUM_SEARCHES"
   ]
  },
  {
   "cell_type": "code",
   "execution_count": 1,
   "metadata": {},
   "outputs": [],
   "source": [
    "\n",
    "for model_name in model_names:\n",
    "    \n",
    "    for dataset_name in dataset_names:\n",
    "        \n",
    "        train, valid, test = datasets.get_descriptor_datasets(\n",
    "            dataset_path=f'../input/datasets/{dataset_name}.csv')\n",
    "        \n",
    "        model_iter = models.ModelGenerator(model_name, NUM_SEARCHES)\n",
    "        \n",
    "        best_score = float('inf')\n",
    "        for model in tqdm(model_iter):\n",
    "            \n",
    "            model.fit(train['X'], train['y'])\n",
    "            preds = model.predict(valid['X'])\n",
    "            rmse = metrics.get('rmse')(valid['y'], preds)\n",
    "            \n",
    "            if rmse < best_score:\n",
    "                best_score = rmse\n",
    "                best_params = model_iter.param.copy()\n",
    "                best_model = model\n",
    "        \n",
    "        \n",
    "        print('model      : {}'.format(model_name))\n",
    "        print('dataset    : {}'.format(dataset_name))\n",
    "        print('best score : {}'.format(best_score))\n",
    "        print('---'*20)\n",
    "        \n",
    "        \n",
    "        fit_and_predict(\n",
    "            model_obj=model_iter.model,\n",
    "            model_params=best_params,\n",
    "            model_best=best_model,\n",
    "            datasets=[train, valid, test],\n",
    "            num_repl=NUM_REPL,\n",
    "            save_path='../output/predictions/{}/{}'.format(\n",
    "                dataset_name, model_name)\n",
    "        )\n",
    "        \n",
    "        "
   ]
  },
  {
   "cell_type": "code",
   "execution_count": null,
   "metadata": {},
   "outputs": [],
   "source": []
  }
 ],
 "metadata": {
  "kernelspec": {
   "display_name": "Python 3",
   "language": "python",
   "name": "python3"
  },
  "language_info": {
   "codemirror_mode": {
    "name": "ipython",
    "version": 3
   },
   "file_extension": ".py",
   "mimetype": "text/x-python",
   "name": "python",
   "nbconvert_exporter": "python",
   "pygments_lexer": "ipython3",
   "version": "3.9.5"
  }
 },
 "nbformat": 4,
 "nbformat_minor": 4
}
