{
 "cells": [
  {
   "cell_type": "code",
   "execution_count": 1,
   "metadata": {},
   "outputs": [],
   "source": [
    "import numpy as np\n",
    "import pandas as pd\n",
    "from tqdm import tqdm\n",
    "import os\n",
    "\n",
    "import sys\n",
    "sys.path.append('../src/')\n",
    "\n",
    "from ml import datasets as ml_datasets\n",
    "from ml import ml_models\n",
    "\n",
    "from utils import metrics"
   ]
  },
  {
   "cell_type": "code",
   "execution_count": 2,
   "metadata": {},
   "outputs": [],
   "source": [
    "def generate_output(model_obj,\n",
    "                       datasets,\n",
    "                       save_path):\n",
    "\n",
    "    \n",
    "    \n",
    "    if not os.path.isdir(save_path):\n",
    "        os.makedirs(save_path)\n",
    "        \n",
    "    print(model_obj)\n",
    "    \n",
    "    for name, dataset in zip(['train', 'valid', 'test_1', 'test_2'], datasets):\n",
    "        if dataset is not None:\n",
    "            y_pred = model_obj.predict(dataset['X'])\n",
    "\n",
    "            np.save(save_path + '/' + name, np.stack([dataset['y'], y_pred]))\n",
    "    \n",
    "        "
   ]
  },
  {
   "cell_type": "code",
   "execution_count": 3,
   "metadata": {},
   "outputs": [],
   "source": [
    "model_names = [\n",
    "    'rf', \n",
    "    'gb',\n",
    "    'ab',\n",
    "    'svm',\n",
    "]\n",
    "\n",
    "dataset_names = ['RIKEN', 'Fiehn_HILIC', 'SMRT']\n",
    "\n",
    "NUM_SEARCHES = 20"
   ]
  },
  {
   "cell_type": "code",
   "execution_count": null,
   "metadata": {},
   "outputs": [
    {
     "name": "stderr",
     "output_type": "stream",
     "text": [
      "100%|██████████| 20/20 [00:04<00:00,  4.99it/s]\n"
     ]
    },
    {
     "name": "stdout",
     "output_type": "stream",
     "text": [
      "model      : rf\n",
      "dataset    : RIKEN\n",
      "best score : 0.7200726495726499\n",
      "------------------------------------------------------------\n",
      "RandomForestRegressor(bootstrap=True, ccp_alpha=0.0, criterion='mse',\n",
      "                      max_depth=46, max_features=36, max_leaf_nodes=None,\n",
      "                      max_samples=None, min_impurity_decrease=0.0,\n",
      "                      min_impurity_split=None, min_samples_leaf=1,\n",
      "                      min_samples_split=2, min_weight_fraction_leaf=0.0,\n",
      "                      n_estimators=120, n_jobs=-1, oob_score=False,\n",
      "                      random_state=None, verbose=0, warm_start=False)\n"
     ]
    },
    {
     "name": "stderr",
     "output_type": "stream",
     "text": [
      "100%|██████████| 20/20 [00:05<00:00,  3.78it/s]"
     ]
    },
    {
     "name": "stdout",
     "output_type": "stream",
     "text": [
      "model      : rf\n",
      "dataset    : Fiehn_HILIC\n",
      "best score : 0.9692966199958842\n",
      "------------------------------------------------------------\n",
      "RandomForestRegressor(bootstrap=True, ccp_alpha=0.0, criterion='mse',\n",
      "                      max_depth=93, max_features=52, max_leaf_nodes=None,\n",
      "                      max_samples=None, min_impurity_decrease=0.0,\n",
      "                      min_impurity_split=None, min_samples_leaf=3,\n",
      "                      min_samples_split=2, min_weight_fraction_leaf=0.0,\n",
      "                      n_estimators=202, n_jobs=-1, oob_score=False,\n",
      "                      random_state=None, verbose=0, warm_start=False)\n"
     ]
    },
    {
     "name": "stderr",
     "output_type": "stream",
     "text": [
      "\n",
      " 20%|██        | 4/20 [01:16<04:51, 18.25s/it]"
     ]
    }
   ],
   "source": [
    "\n",
    "for model_name in model_names:\n",
    "    \n",
    "    for dataset_name in dataset_names:\n",
    "        \n",
    "        train, valid, test_1, test_2 = ml_datasets.get_descriptor_datasets(\n",
    "            dataset_path=f'../input/datasets/{dataset_name}.csv')\n",
    "        \n",
    "        model_iter = models.ModelGenerator(model_name, NUM_SEARCHES)\n",
    "        \n",
    "        best_error = float('inf')\n",
    "        for model in tqdm(model_iter):\n",
    "            \n",
    "            model.fit(train['X'], train['y'])\n",
    "            preds = model.predict(valid['X'])\n",
    "            error = metrics.get('mae')(valid['y'], preds)\n",
    "            \n",
    "            if error < best_error:\n",
    "                best_error = error\n",
    "                best_model = model\n",
    "        \n",
    "        print('model      : {}'.format(model_name))\n",
    "        print('dataset    : {}'.format(dataset_name))\n",
    "        print('best score : {}'.format(best_error))\n",
    "        print('---'*20)\n",
    "        \n",
    "        generate_output(\n",
    "            model_obj=best_model,\n",
    "            datasets=[train, valid, test_1, test_2],\n",
    "            save_path='../output/predictions/{}/{}'.format(\n",
    "                dataset_name, model_name)\n",
    "        )\n",
    "        \n",
    "        "
   ]
  },
  {
   "cell_type": "code",
   "execution_count": null,
   "metadata": {},
   "outputs": [],
   "source": []
  },
  {
   "cell_type": "code",
   "execution_count": 6,
   "metadata": {},
   "outputs": [
    {
     "name": "stderr",
     "output_type": "stream",
     "text": [
      "100%|██████████| 20/20 [01:01<00:00,  3.07s/it]"
     ]
    },
    {
     "name": "stdout",
     "output_type": "stream",
     "text": [
      "model      : rf\n",
      "dataset    : RIKEN\n",
      "best score : 0.7467297008547013\n",
      "------------------------------------------------------------\n",
      "RandomForestRegressor(bootstrap=True, ccp_alpha=0.0, criterion='mae',\n",
      "                      max_depth=46, max_features=36, max_leaf_nodes=None,\n",
      "                      max_samples=None, min_impurity_decrease=0.0,\n",
      "                      min_impurity_split=None, min_samples_leaf=1,\n",
      "                      min_samples_split=2, min_weight_fraction_leaf=0.0,\n",
      "                      n_estimators=120, n_jobs=None, oob_score=False,\n",
      "                      random_state=None, verbose=0, warm_start=False)\n"
     ]
    },
    {
     "name": "stderr",
     "output_type": "stream",
     "text": [
      "\n",
      "100%|██████████| 20/20 [03:35<00:00, 10.79s/it]"
     ]
    },
    {
     "name": "stdout",
     "output_type": "stream",
     "text": [
      "model      : rf\n",
      "dataset    : Fiehn_HILIC\n",
      "best score : 0.98239152892562\n",
      "------------------------------------------------------------\n",
      "RandomForestRegressor(bootstrap=True, ccp_alpha=0.0, criterion='mae',\n",
      "                      max_depth=11, max_features=71, max_leaf_nodes=None,\n",
      "                      max_samples=None, min_impurity_decrease=0.0,\n",
      "                      min_impurity_split=None, min_samples_leaf=1,\n",
      "                      min_samples_split=2, min_weight_fraction_leaf=0.0,\n",
      "                      n_estimators=165, n_jobs=None, oob_score=False,\n",
      "                      random_state=None, verbose=0, warm_start=False)\n"
     ]
    },
    {
     "name": "stderr",
     "output_type": "stream",
     "text": [
      "\n",
      "100%|██████████| 20/20 [00:07<00:00,  2.54it/s]"
     ]
    },
    {
     "name": "stdout",
     "output_type": "stream",
     "text": [
      "model      : gb\n",
      "dataset    : RIKEN\n",
      "best score : 0.5589955934881803\n",
      "------------------------------------------------------------\n",
      "GradientBoostingRegressor(alpha=0.9, ccp_alpha=0.0, criterion='friedman_mse',\n",
      "                          init=None, learning_rate=0.11123579911258707,\n",
      "                          loss='huber', max_depth=3, max_features=16,\n",
      "                          max_leaf_nodes=None, min_impurity_decrease=0.0,\n",
      "                          min_impurity_split=None, min_samples_leaf=1,\n",
      "                          min_samples_split=2, min_weight_fraction_leaf=0.0,\n",
      "                          n_estimators=170, n_iter_no_change=None,\n",
      "                          presort='deprecated', random_state=None,\n",
      "                          subsample=0.6684691198108689, tol=0.0001,\n",
      "                          validation_fraction=0.1, verbose=0, warm_start=False)\n"
     ]
    },
    {
     "name": "stderr",
     "output_type": "stream",
     "text": [
      "\n",
      "100%|██████████| 20/20 [00:10<00:00,  1.85it/s]"
     ]
    },
    {
     "name": "stdout",
     "output_type": "stream",
     "text": [
      "model      : gb\n",
      "dataset    : Fiehn_HILIC\n",
      "best score : 0.8967465543743781\n",
      "------------------------------------------------------------\n",
      "GradientBoostingRegressor(alpha=0.9, ccp_alpha=0.0, criterion='friedman_mse',\n",
      "                          init=None, learning_rate=0.1635424442952658,\n",
      "                          loss='huber', max_depth=2, max_features=95,\n",
      "                          max_leaf_nodes=None, min_impurity_decrease=0.0,\n",
      "                          min_impurity_split=None, min_samples_leaf=1,\n",
      "                          min_samples_split=2, min_weight_fraction_leaf=0.0,\n",
      "                          n_estimators=239, n_iter_no_change=None,\n",
      "                          presort='deprecated', random_state=None,\n",
      "                          subsample=0.4566969187504992, tol=0.0001,\n",
      "                          validation_fraction=0.1, verbose=0, warm_start=False)\n"
     ]
    },
    {
     "name": "stderr",
     "output_type": "stream",
     "text": [
      "\n",
      "100%|██████████| 20/20 [02:53<00:00,  8.68s/it]"
     ]
    },
    {
     "name": "stdout",
     "output_type": "stream",
     "text": [
      "model      : ab\n",
      "dataset    : RIKEN\n",
      "best score : 0.7493589743589743\n",
      "------------------------------------------------------------\n",
      "AdaBoostRegressor(base_estimator=DecisionTreeRegressor(ccp_alpha=0.0,\n",
      "                                                       criterion='mae',\n",
      "                                                       max_depth=5,\n",
      "                                                       max_features=None,\n",
      "                                                       max_leaf_nodes=None,\n",
      "                                                       min_impurity_decrease=0.0,\n",
      "                                                       min_impurity_split=None,\n",
      "                                                       min_samples_leaf=1,\n",
      "                                                       min_samples_split=2,\n",
      "                                                       min_weight_fraction_leaf=0.0,\n",
      "                                                       presort='deprecated',\n",
      "                                                       random_state=None,\n",
      "                                                       splitter='best'),\n",
      "                  learning_rate=0.3778815895353571, loss='linear',\n",
      "                  n_estimators=287, random_state=None)\n"
     ]
    },
    {
     "name": "stderr",
     "output_type": "stream",
     "text": [
      "\n",
      "100%|██████████| 20/20 [12:17<00:00, 36.89s/it]"
     ]
    },
    {
     "name": "stdout",
     "output_type": "stream",
     "text": [
      "model      : ab\n",
      "dataset    : Fiehn_HILIC\n",
      "best score : 0.9689772727272729\n",
      "------------------------------------------------------------\n",
      "AdaBoostRegressor(base_estimator=DecisionTreeRegressor(ccp_alpha=0.0,\n",
      "                                                       criterion='mae',\n",
      "                                                       max_depth=5,\n",
      "                                                       max_features=None,\n",
      "                                                       max_leaf_nodes=None,\n",
      "                                                       min_impurity_decrease=0.0,\n",
      "                                                       min_impurity_split=None,\n",
      "                                                       min_samples_leaf=1,\n",
      "                                                       min_samples_split=2,\n",
      "                                                       min_weight_fraction_leaf=0.0,\n",
      "                                                       presort='deprecated',\n",
      "                                                       random_state=None,\n",
      "                                                       splitter='best'),\n",
      "                  learning_rate=0.16037212397766779, loss='linear',\n",
      "                  n_estimators=261, random_state=None)\n"
     ]
    },
    {
     "name": "stderr",
     "output_type": "stream",
     "text": [
      "\n"
     ]
    }
   ],
   "source": []
  },
  {
   "cell_type": "code",
   "execution_count": null,
   "metadata": {},
   "outputs": [],
   "source": []
  }
 ],
 "metadata": {
  "kernelspec": {
   "display_name": "Python 3",
   "language": "python",
   "name": "python3"
  },
  "language_info": {
   "codemirror_mode": {
    "name": "ipython",
    "version": 3
   },
   "file_extension": ".py",
   "mimetype": "text/x-python",
   "name": "python",
   "nbconvert_exporter": "python",
   "pygments_lexer": "ipython3",
   "version": "3.8.10"
  }
 },
 "nbformat": 4,
 "nbformat_minor": 4
}
